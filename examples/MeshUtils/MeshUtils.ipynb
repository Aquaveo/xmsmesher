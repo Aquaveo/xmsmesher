{
 "cells": [
  {
   "cell_type": "markdown",
   "id": "82bae1dc-c40f-45b0-9f81-f5a31ab6a639",
   "metadata": {},
   "source": [
    "## Table of Contents"
   ]
  },
  {
   "cell_type": "markdown",
   "id": "222a5d99-0c9a-4211-8cf5-647ee0dfff29",
   "metadata": {},
   "source": [
    "- [Size Functions](#Size-Functions)\n",
    "  - [size_function_from_depth()](#size_function_from_depth())\n",
    "  - [size_function_from_edge_lengths()](#size_function_from_edge_lengths())\n",
    "- [Smooth Size Functions](#Smooth-Size-Functions)\n",
    "  - [smooth_size_function()](#smooth_size_function())\n",
    "  - [smooth_size_function_ugrid()](#smooth_size_function_ugrid())\n",
    "- [Smooth Elevation Functions](#Smooth-Elevation-Functions)\n",
    "  - [smooth_elev_by_slope()](#smooth_elev_by_slope())\n",
    "  - [smooth_elev_by_slope_ugrid()](#smooth_elev_by_slope_ugrid())\n",
    "- [generate_mesh()](#generate_mesh())\n",
    "- [generate_2dm()](#generate_2dm())\n",
    "- [check_mesh_input_topology()](#check_mesh_input_topology())\n",
    "- [redistribute_poly_line()](#redistribute_poly_line())"
   ]
  },
  {
   "cell_type": "code",
   "execution_count": 1,
   "id": "a775e815-e31f-4b5a-aba0-80e295df1c9b",
   "metadata": {
    "tags": []
   },
   "outputs": [],
   "source": [
    "from xms.mesher.meshing import mesh_utils\n",
    "from xms.mesher.meshing import poly_input\n",
    "from xms.mesher.meshing.multi_poly_mesher_io import MultiPolyMesherIo"
   ]
  },
  {
   "cell_type": "markdown",
   "id": "921de029-1fee-439b-9371-6f3426d7b269",
   "metadata": {},
   "source": [
    "## Size Functions"
   ]
  },
  {
   "cell_type": "markdown",
   "id": "9bdd6b09-188b-458a-94f0-c3f7580c6102",
   "metadata": {},
   "source": [
    "A size function is a multiple that guides the size of elements to be created in SMS. A size function determines the element size based off of a dataset that will be created by SMS. Each point is assigned a size value. This size value is the approximate size of the elements to be created in the region where the point is located. The mesh will be denser where the size values are smaller. The size function dataset can then be used to redistribute vertices along an arc or used as the bathymetry for polygons. Size functions can be based off of different criteria. For example, they may be based on either depth, slope, or curvature of the model. For more information on size functions see the <a href=\"https://www.xmswiki.com/wiki/SMS:Size_Function\">xmswiki</a>."
   ]
  },
  {
   "cell_type": "markdown",
   "id": "c95a20d7-de62-4e2b-b1e7-336a69e2b04d",
   "metadata": {},
   "source": [
    "## size_function_from_depth()"
   ]
  },
  {
   "cell_type": "markdown",
   "id": "15280ae9-af2e-43ef-b192-9256e48f2579",
   "metadata": {},
   "source": [
    "The `size_function_from_depth()` function creates a size for each given depth based on the depths passed. Each depth corresponds to a point on the model, and each size function returned corresponds to the same point for the corresponding depth. This function is often useful for coastal numerical model simulations.  `size_function_from_depth()` takes the following arguments:\n",
    "\n",
    "- `depths` (iterable): The measured depths at point locations.\n",
    "- `min_size` (float): The minimum element edge size.\n",
    "- `max_size` (float): The maximum element edge size.\n",
    "\n",
    "`size_function_from_depth()` returns a tuple of sizes, one for each depth passed to the `depths` argument."
   ]
  },
  {
   "cell_type": "code",
   "execution_count": 2,
   "id": "45fcc03c-d3d0-4e56-b6fa-10af3a8738b9",
   "metadata": {
    "tags": []
   },
   "outputs": [
    {
     "data": {
      "text/plain": [
       "(2.0, 22.0, 42.0, 82.0, 102.0, 22.0, 2.0)"
      ]
     },
     "execution_count": 2,
     "metadata": {},
     "output_type": "execute_result"
    }
   ],
   "source": [
    "depths = (0, 5, 10, 20, 25, 5, 0)\n",
    "min_elem = 2\n",
    "max_elem = 102\n",
    "\n",
    "mesh_utils.size_function_from_depth(depths, min_elem, max_elem)"
   ]
  },
  {
   "cell_type": "markdown",
   "id": "e4b03e05-7590-4600-bbd8-4785dc084f1b",
   "metadata": {},
   "source": [
    "## size_function_from_edge_lengths()"
   ]
  },
  {
   "cell_type": "markdown",
   "id": "ea89da8d-ce8c-44e0-bb64-b36b0d34241c",
   "metadata": {},
   "source": [
    "The `size_function_from_edge_lengths()` creates a size for each point in the given grid based on the average length of the connected edges to the point. `size_function_from_edge_lengths()` takes the following argument:\n",
    "\n",
    "- `ugrid` (UGrid): The unstructured grid.\n",
    "\n",
    "`size_function_from_edge_lengths()` returns a tuple of sizes whose length is equal to the number of points in the given grid."
   ]
  },
  {
   "cell_type": "code",
   "execution_count": 3,
   "id": "da9ffb08-6403-45cb-aa34-c30e8ed25a55",
   "metadata": {
    "tags": []
   },
   "outputs": [
    {
     "name": "stdout",
     "output_type": "stream",
     "text": [
      "10.83564369593963\n",
      "10.23665819865666\n",
      "10.114041996296901\n",
      "9.954311679197799\n",
      "9.506993258291434\n",
      "...\n"
     ]
    }
   ],
   "source": [
    "# Import needed to read grid in from file\n",
    "from xms.grid.ugrid import ugrid_utils\n",
    "\n",
    "# Read in grid\n",
    "in_ugrid = ugrid_utils.read_ugrid_from_ascii_file('grids/ugrid_1.xmugrid')\n",
    "\n",
    "# Get sizes\n",
    "sizes = mesh_utils.size_function_from_edge_lengths(in_ugrid)\n",
    "\n",
    "# Print selection of sizes\n",
    "for size in sizes[:5]:\n",
    "    print(size)\n",
    "    \n",
    "print('...')"
   ]
  },
  {
   "cell_type": "markdown",
   "id": "0282842e-39b8-4365-ad46-b99fa49fb15e",
   "metadata": {},
   "source": [
    "## Smooth Size Functions"
   ]
  },
  {
   "cell_type": "markdown",
   "id": "1eb1c25d-b9ea-42cb-84ad-acc5461edb36",
   "metadata": {},
   "source": [
    "Smoothing a dataset is used to condition scattered data scalar values before those values are used in an interpolation process. One measure of mesh quality is element area change. If the dataset values change too quickly in a size dataset, the element area change of adjacent elements may be too great, resulting in poor mesh quality. We can smooth a size dataset to prevent the dataset values from changing too quickly. For more information see the <a href=\"https://www.xmswiki.com/wiki/SMS:Smooth_Dataset\">xmswiki</a>. xmsmesher provides utility functions that smooth size datasets. These functions are shown below."
   ]
  },
  {
   "cell_type": "markdown",
   "id": "4c759af2-8a8c-4093-8306-d67f1df1ad99",
   "metadata": {},
   "source": [
    "## smooth_size_function()"
   ]
  },
  {
   "cell_type": "markdown",
   "id": "40c67d3e-8896-43f2-8306-dfc9a7d0dc9b",
   "metadata": {},
   "source": [
    "The `smooth_size_function()` function ensures that the size function transitions over a sufficient distance so that the area change of adjacent elements meets the size ratio passed in. The `smooth_size_function()` takes the following arguments:\n",
    "\n",
    "- `tin` (tin): Points and triangles defining the connectivity of the size function.\n",
    "- `sizes` (iterable): Array of the current sizes.\n",
    "- `size_ratio` (float): Allowable size difference between adjacent elements.\n",
    "- `min_size` (float): Minimum specified element size.\n",
    "- `anchor_to` (str): Option to anchor to the minimum or maximum size (`'min'` or `'max'`).\n",
    "- `points_flag` (iterable): Flag to indicate if the value at the point should be adjusted (a value of true will skip the point). Leave the bitset empty to process all points.\n",
    "\n",
    "An array of smoothed sizes is returned. A simple example of how to use the `smooth_size_function()` is given below."
   ]
  },
  {
   "cell_type": "code",
   "execution_count": 4,
   "id": "d7945d6c-78a3-45e4-8815-03dbbd37fc08",
   "metadata": {
    "tags": []
   },
   "outputs": [
    {
     "data": {
      "text/plain": [
       "(96.53426361083984,\n",
       " 95.09870910644531,\n",
       " 91.63297271728516,\n",
       " 88.167236328125,\n",
       " 100.0,\n",
       " 96.53426361083984,\n",
       " 93.06852722167969,\n",
       " 89.60279083251953,\n",
       " 96.53426361083984,\n",
       " 93.06852722167969,\n",
       " 89.60279083251953,\n",
       " 86.13705444335938)"
      ]
     },
     "execution_count": 4,
     "metadata": {},
     "output_type": "execute_result"
    }
   ],
   "source": [
    "# Import needed for Tin\n",
    "from xms.grid.triangulate import Tin\n",
    "\n",
    "# Create a Tin\n",
    "pts = ((0, 0, 0), (10, 0, 0), (20, 0, 0), (30, 0, 0), (0, 10, 0), (10, 10, 0),\n",
    "       (20, 10, 0), (30, 10, 0), (0, 20, 0), (10, 20, 0), (20, 20, 0), (30, 20, 0))\n",
    "\n",
    "tris = ()\n",
    "adj_tris = ()\n",
    "\n",
    "tin = Tin(pts, tris)\n",
    "tin.triangles_adjacent_to_points = adj_tris\n",
    "tin.triangulate()\n",
    "\n",
    "# Create inputs for function\n",
    "sizes = [1 for _ in range(0, 12)]\n",
    "sizes[4] = 100\n",
    "\n",
    "size_ratio = 0.5\n",
    "min_size = 1.0\n",
    "anchor_type = 'max'\n",
    "pt_flags = ()\n",
    "\n",
    "# Smooth the sizes\n",
    "mesh_utils.smooth_size_function(tin, sizes, size_ratio, min_size, anchor_type, pt_flags)"
   ]
  },
  {
   "cell_type": "markdown",
   "id": "1400c9d0-04dc-414b-aaeb-8fb69fc9040a",
   "metadata": {},
   "source": [
    "## smooth_size_function_ugrid()"
   ]
  },
  {
   "cell_type": "markdown",
   "id": "1d03a481-a239-4e39-98c5-7fdd09cb947c",
   "metadata": {},
   "source": [
    "The `smooth_size_function_ugrid()` Ensures that the size function transitions over a sufficient distance so that the area change of adjacent elements meets the size ratio passed in. It is the same as the `smooth_size_function()` function except it accepts a `UGrid` instead of a `Tin`. The `smooth_size_function_ugrid()` accepts the following arguments:\n",
    "\n",
    "- `ugrid` (UGrid): Unstructured grid defining the connectivity of the size function.\n",
    "- `sizes` (iterable): Array of the current sizes.\n",
    "- `size_ratio` (float): Allowable size difference between adjacent elements.\n",
    "- `min_size` (float): Minimum specified element size.\n",
    "- `anchor_to` (str): Option to anchor to the minimum or maximum size ('min' or 'max')\n",
    "- `points_flag` (iterable): Flag to indicate if the value at the point should be adjusted (a value of true will skip the point). Leave the bitset empty to process all points.\n",
    "\n",
    "An array of smoothed sizes is returned. A simple example of how to use the `smooth_size_function_ugrid()` is given below."
   ]
  },
  {
   "cell_type": "code",
   "execution_count": 5,
   "id": "751258fe-29cd-48f2-a653-c36c0add2c42",
   "metadata": {
    "tags": []
   },
   "outputs": [
    {
     "name": "stdout",
     "output_type": "stream",
     "text": [
      "86.13705444335938\n",
      "89.60279083251953\n",
      "93.06852722167969\n",
      "96.53426361083984\n",
      "100.0\n",
      "96.53426361083984\n",
      "93.06852722167969\n",
      "89.60279083251953\n",
      "86.13705444335938\n",
      "82.67131805419922\n",
      "...\n"
     ]
    }
   ],
   "source": [
    "# Create inputs for function\n",
    "sizes = [1 for _ in range(0, 158)]\n",
    "sizes[4] = 100\n",
    "\n",
    "size_ratio = 0.5\n",
    "min_size = 1.0\n",
    "anchor_type = 'max'\n",
    "pt_flags = ()\n",
    "\n",
    "# Smooth the sizes (Note: in_ugrid is a UGrid we read in from a file earlier in the notebook)\n",
    "smooth_sizes = mesh_utils.smooth_size_function_ugrid(in_ugrid, sizes, size_ratio, min_size, anchor_type, pt_flags)\n",
    "\n",
    "# Print the first 10 sizes from the smoothed sizes returned\n",
    "for size in smooth_sizes[:10]:\n",
    "    print(size)\n",
    "    \n",
    "print('...')"
   ]
  },
  {
   "cell_type": "markdown",
   "id": "cb021a4d-2767-41ca-acf9-a746012168ff",
   "metadata": {},
   "source": [
    "## Smooth Elevation Functions"
   ]
  },
  {
   "cell_type": "markdown",
   "id": "e9f98c91-7bf4-498d-9d1e-e71a4dc06b5e",
   "metadata": {},
   "source": [
    "xmsmesher provides utility functions that smooth the elevation of a dataset. These can be used to smooth depth/elevation values to prevent extreme slopes. These functions are shown below."
   ]
  },
  {
   "cell_type": "markdown",
   "id": "f1666973-890e-4498-845a-4eafdff46de1",
   "metadata": {},
   "source": [
    "## smooth_elev_by_slope()"
   ]
  },
  {
   "cell_type": "markdown",
   "id": "8c837090-63c0-4b65-a20a-a1ca23e849ad",
   "metadata": {},
   "source": [
    "The `smooth_elev_by_slope()` function smooths elevations based on a max specified slope. It takes the following arguments:\n",
    "\n",
    "- `tin` (tin): Points and triangles defining the connectivity of the elevations.\n",
    "- `elevations` (iterable): Array of the current elevations.\n",
    "- `max_slope` (float): Maximum allowable slope.\n",
    "- `anchor_to` (str): Option to anchor to the minimum or maximum size (`'min'` or `'max'`).\n",
    "- `points_flag` (iterable): Flag to indicate if the value at the point should be adjusted (a value of true will skip the point). Leave the bitset empty to process all points.\n",
    "\n",
    "An array of smoothed elevations is returned.  A simple example showing how to use `smooth_elev_by_slope()` is given below."
   ]
  },
  {
   "cell_type": "code",
   "execution_count": 6,
   "id": "a3cca9c2-6a35-47e4-9a08-a74d2985e315",
   "metadata": {
    "tags": []
   },
   "outputs": [
    {
     "data": {
      "text/plain": [
       "(6.0,\n",
       " 8.071067810058594,\n",
       " 13.071067810058594,\n",
       " 18.071067810058594,\n",
       " 1.0,\n",
       " 6.0,\n",
       " 11.0,\n",
       " 16.0,\n",
       " 6.0,\n",
       " 11.0,\n",
       " 16.0,\n",
       " 21.0)"
      ]
     },
     "execution_count": 6,
     "metadata": {},
     "output_type": "execute_result"
    }
   ],
   "source": [
    "# Create a Tin\n",
    "pts = ((0, 0, 0), (10, 0, 0), (20, 0, 0), (30, 0, 0), (0, 10, 0), (10, 10, 0),\n",
    "       (20, 10, 0), (30, 10, 0), (0, 20, 0), (10, 20, 0), (20, 20, 0), (30, 20, 0))\n",
    "\n",
    "tris = ()\n",
    "adj_tris = ()\n",
    "\n",
    "tin = Tin(pts, tris)\n",
    "tin.triangles_adjacent_to_points = adj_tris\n",
    "tin.triangulate()\n",
    "\n",
    "# Create inputs for smooth_elev_by_slope()\n",
    "elevations = [100 for _ in range(0, 12)]\n",
    "elevations[4] = 1\n",
    "min_size = 0.5\n",
    "anchor_type = 'min'\n",
    "pt_flags = ()\n",
    "\n",
    "# Smooth the elevations\n",
    "mesh_utils.smooth_elev_by_slope(tin, elevations, min_size, anchor_type, pt_flags)"
   ]
  },
  {
   "cell_type": "markdown",
   "id": "283f9860-9018-4619-b726-009b8327fc34",
   "metadata": {},
   "source": [
    "## smooth_elev_by_slope_ugrid()"
   ]
  },
  {
   "cell_type": "markdown",
   "id": "97326eaf-e227-4444-a691-bd5218bd8214",
   "metadata": {},
   "source": [
    "The `smooth_elev_by_slope_ugrid()` function smooths elevations based on a max specified slope. It is the same as `smooth_elev_by_slope()` except it takes a `UGrid` instead of a `Tin`. It takes the following arguments:\n",
    "\n",
    "- `ugrid` (UGrid): Unstructured grid defining the connectivity of the elevations.\n",
    "- `elevations` (iterable): Array of the current elevations.\n",
    "- `max_slope` (float): Maximum allowable slope.\n",
    "- `anchor_to` (str): Option to anchor to the minimum or maximum size ('min' or 'max')\n",
    "- `points_flag` (iterable): Flag to indicate if the value at the point should be adjusted (a value of true will skip the point). Leave the bitset empty to process all points.\n",
    "\n",
    "An array of smoothed elevations is returned.  A simple example showing how to use `smooth_elev_by_slope_ugrid()` is given below."
   ]
  },
  {
   "cell_type": "code",
   "execution_count": 7,
   "id": "02380c12-5520-457d-8921-7ea0f99d377a",
   "metadata": {
    "tags": []
   },
   "outputs": [
    {
     "name": "stdout",
     "output_type": "stream",
     "text": [
      "60.0\n",
      "70.0\n",
      "80.0\n",
      "90.0\n",
      "100.0\n",
      "90.0\n",
      "80.0\n",
      "70.0\n",
      "60.0\n",
      "50.0\n",
      "...\n"
     ]
    }
   ],
   "source": [
    "# Create inputs for function\n",
    "elevs = [1 for _ in range(0, 158)]\n",
    "elevs[4] = 100\n",
    "\n",
    "min_slope = 1.0\n",
    "anchor_type = 'max'\n",
    "pt_flags = ()\n",
    "\n",
    "# Smooth the elevations (Note: in_ugrid is a UGrid we read in from a file earlier in the notebook)\n",
    "smooth_elevs = mesh_utils.smooth_elev_by_slope_ugrid(in_ugrid, elevs, min_slope, anchor_type, pt_flags)\n",
    "\n",
    "# Print the first 10 elevations from the smoothed elevations returned\n",
    "for elev in smooth_elevs[:10]:\n",
    "    print(elev)\n",
    "\n",
    "print('...')"
   ]
  },
  {
   "cell_type": "markdown",
   "id": "d3447bc1-69de-48f9-ab73-bc8cf3ce99a0",
   "metadata": {},
   "source": [
    "## generate_mesh()"
   ]
  },
  {
   "cell_type": "markdown",
   "id": "56da973d-e318-4196-bb90-4d8ec36380d8",
   "metadata": {},
   "source": [
    "The `generate_mesh()` function creates a mesh from input polygons. It takes the following argument:\n",
    "\n",
    "- `mesh_io` (MultiPolyMesherIo): Input polygons and options for generating a mesh.\n",
    "\n",
    "See the other notebooks in xmsmesher (MeshSimplePolygon, MeshScalarPaving, and MeshSanDiego) for examples on how to use `generate_mesh()`."
   ]
  },
  {
   "cell_type": "markdown",
   "id": "a8d9688b-7cc7-4a82-8e81-ce2880d4e4c6",
   "metadata": {},
   "source": [
    "## generate_2dm()"
   ]
  },
  {
   "cell_type": "markdown",
   "id": "aca3ddc6-8a57-453a-9f0f-eeb9e2026515",
   "metadata": {},
   "source": [
    "The `generate_2dm()` function allows you to create a mesh from input polygons and write it to a 2dm file. It takes the following arguments:\n",
    "\n",
    "- `mesh_io` (MultiPolyMesherIo): Input polygons and options for generating a mesh.\n",
    "- `file_name` (str): The file name of the output 2dm file.\n",
    "- `precision` (int, optional): The decimal point precision of the resulting mesh.\n",
    "\n",
    "The function returns a tuple where the first entry is `True` if the mesh was generated successfully, and `False` otherwise. The second entry in the returned tuple is a string of messages in the case where the mesh wasn't generated successfully."
   ]
  },
  {
   "cell_type": "code",
   "execution_count": 8,
   "id": "c751540c-b5b0-4299-8c59-b402456ebf3c",
   "metadata": {
    "tags": []
   },
   "outputs": [
    {
     "name": "stdout",
     "output_type": "stream",
     "text": [
      "True\n",
      "\n"
     ]
    }
   ],
   "source": [
    "polygon_points = [\n",
    "    (0, 10,0),   (0, 20,0),   (0, 30,0),   (0, 40,0),    (0, 50,0),   (0, 60,0),   (0, 70,0),   (0, 80,0),\n",
    "    (0, 90,0),   (0, 100,0),  (10, 100,0), (20, 100,0),  (30, 100,0), (40, 100,0), (50, 100,0), (60, 100,0),\n",
    "    (70, 100,0), (80, 100,0), (90, 100,0), (100, 100,0), (100, 90,0), (100, 80,0), (100, 70,0), (100, 60,0),\n",
    "    (100, 50,0), (100, 40,0), (100, 30,0), (100, 20,0),  (100, 10,0), (100, 0,0),  (90, 0,0),   (80, 0,0),\n",
    "    (70, 0,0),   (60, 0,0),   (50, 0,0),   (40, 0,0),    (30, 0,0),   (20, 0,0),   (10, 0,0),   (0, 0,0)\n",
    "]\n",
    "\n",
    "# Create Meshing Inputs\n",
    "input_polygon = poly_input.PolyInput(outside_polygon=polygon_points)\n",
    "mesh_io = MultiPolyMesherIo(polygons=[input_polygon])\n",
    "\n",
    "# Generate 2dm\n",
    "success, errors = mesh_utils.generate_2dm(mesh_io, 'output/out_file.2dm', 3)\n",
    "print(success)\n",
    "print(errors)"
   ]
  },
  {
   "cell_type": "markdown",
   "id": "5b165a0f-3b5e-4421-a20e-8ed21eb50d5f",
   "metadata": {},
   "source": [
    "## check_mesh_input_topology()"
   ]
  },
  {
   "cell_type": "markdown",
   "id": "63abf586-dc9d-4658-9041-4a1973bbe6ed",
   "metadata": {},
   "source": [
    "The `check_mesh_input_topology()` function checks if the input polygons for a `MultiPolyMesherIo` object intersect one another. It takes a `MultiPolyMesherIo` object and returns a tuple containing a bool and a string of messages. The first entry in the tuple will hold `True` if the inputs are topologically correct and `False` otherwise. The second entry in the tuple will hold a string of messages when the topology is incorrect."
   ]
  },
  {
   "cell_type": "markdown",
   "id": "79f58153-25c5-4352-98e1-55ec90f9c605",
   "metadata": {},
   "source": [
    "The example below shows `check_mesh_input_topology()` being used on a mesh that is topologically correct."
   ]
  },
  {
   "cell_type": "code",
   "execution_count": 9,
   "id": "973e9270-db2e-427b-9103-becff98c8b1d",
   "metadata": {
    "tags": []
   },
   "outputs": [
    {
     "name": "stdout",
     "output_type": "stream",
     "text": [
      "True\n",
      "\n"
     ]
    }
   ],
   "source": [
    "# Generate MultiPolyMesherIo\n",
    "io = MultiPolyMesherIo(())\n",
    "input_polygon = poly_input.PolyInput(outside_polygon=((0, 0, 0), (100, 0, 0), (100, 100, 0), (0, 100, 0)))\n",
    "io.polygons = (input_polygon,)\n",
    "\n",
    "# Check mesh topology\n",
    "success, errors = mesh_utils.check_mesh_input_topology(io)\n",
    "print(success)\n",
    "print(errors)"
   ]
  },
  {
   "cell_type": "markdown",
   "id": "a9c6f914-c25c-4490-9fcd-069ef83480ae",
   "metadata": {},
   "source": [
    "The example below shows `check_mesh_input_topology()` being used on a mesh that IS NOT topologically correct (there is an intersection)."
   ]
  },
  {
   "cell_type": "code",
   "execution_count": 10,
   "id": "36b77ade-34e1-4a8c-89da-bb1d59d53669",
   "metadata": {
    "tags": []
   },
   "outputs": [
    {
     "name": "stdout",
     "output_type": "stream",
     "text": [
      "False\n",
      "Error: Input polygon segments intersect. The segment defined by points 0 and 1 of outer polygon 0 intersects with the segment defined by points 2 and 3 of outer polygon 0.\n",
      "\n"
     ]
    }
   ],
   "source": [
    "# Generate MultiPolyMesherIo\n",
    "io = MultiPolyMesherIo(())\n",
    "input_polygon = poly_input.PolyInput(outside_polygon=((0, 0, 0), (100, 0, 0), (100, 10, 0), (0, -10, 0)))\n",
    "io.polygons = (input_polygon,)\n",
    "\n",
    "# Check mesh topology\n",
    "success, errors = mesh_utils.check_mesh_input_topology(io)\n",
    "print(success)\n",
    "print(errors)"
   ]
  },
  {
   "cell_type": "markdown",
   "id": "0a52dcf3-0699-4cce-b8e5-6ff2d3691769",
   "metadata": {
    "tags": []
   },
   "source": [
    "## redistribute_poly_line()"
   ]
  },
  {
   "cell_type": "markdown",
   "id": "ec955d75-582d-481f-90ec-73d4a0b9a0e8",
   "metadata": {},
   "source": [
    "The `redistribute_poly_line()` function redistributes the points along a line to a constant spacing. It takes the two following arguments:\n",
    "\n",
    "- `polyline` (iterable): Input poly line locations.\n",
    "- `size` (float): The desired spacing for point redistribution.\n",
    "\n",
    "The return value is a numpy array which holds the redistributed poly line locations."
   ]
  },
  {
   "cell_type": "code",
   "execution_count": 11,
   "id": "db06bb32-b1ec-40c3-8f1a-9f7df0149fc8",
   "metadata": {
    "tags": []
   },
   "outputs": [
    {
     "data": {
      "text/plain": [
       "array([[  0.,   0.,   0.],\n",
       "       [  0.,  25.,   0.],\n",
       "       [  0.,  50.,   0.],\n",
       "       [  0.,  75.,   0.],\n",
       "       [  0., 100.,   0.],\n",
       "       [ 25., 100.,   0.],\n",
       "       [ 50., 100.,   0.],\n",
       "       [ 75., 100.,   0.],\n",
       "       [100., 100.,   0.],\n",
       "       [100.,  75.,   0.],\n",
       "       [100.,  50.,   0.],\n",
       "       [100.,  25.,   0.],\n",
       "       [100.,   0.,   0.],\n",
       "       [ 75.,   0.,   0.],\n",
       "       [ 50.,   0.,   0.],\n",
       "       [ 25.,   0.,   0.],\n",
       "       [  0.,   0.,   0.]])"
      ]
     },
     "execution_count": 11,
     "metadata": {},
     "output_type": "execute_result"
    }
   ],
   "source": [
    "# Create the locations for the input poly line\n",
    "polygon_corners = [(0, 0, 0), (0, 100, 0), (100, 100, 0), (100, 0, 0), (0, 0, 0)]\n",
    "\n",
    "# Redistribute the poly line\n",
    "mesh_utils.redistribute_poly_line(polygon_corners, 25)"
   ]
  }
 ],
 "metadata": {
  "kernelspec": {
   "display_name": "Python 3 (ipykernel)",
   "language": "python",
   "name": "python3"
  },
  "language_info": {
   "codemirror_mode": {
    "name": "ipython",
    "version": 3
   },
   "file_extension": ".py",
   "mimetype": "text/x-python",
   "name": "python",
   "nbconvert_exporter": "python",
   "pygments_lexer": "ipython3",
   "version": "3.10.2"
  }
 },
 "nbformat": 4,
 "nbformat_minor": 5
}
