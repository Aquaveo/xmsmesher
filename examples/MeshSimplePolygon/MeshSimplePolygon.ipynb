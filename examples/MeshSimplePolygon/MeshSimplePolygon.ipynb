{
 "cells": [
  {
   "cell_type": "markdown",
   "metadata": {},
   "source": [
    "## Table of Contents"
   ]
  },
  {
   "cell_type": "markdown",
   "metadata": {},
   "source": [
    "- [xmsmesh \"hello world\"](#xmsmesh-\"hello-world\")\n",
    "- [Define the Polygon Points and Display](#Define-the-Polygon-Points-and-Display)\n",
    "- [Create the Mesh Inputs and Generate the Mesh](#Create-the-Mesh-Inputs-and-Generate-the-Mesh)\n",
    "- [Display the Mesh](#Display-the-Mesh)\n",
    "- [Read polygon from shapefile](#Read-polygon-from-shapefile)\n",
    "- [xms.mesher.api generate_mesh()](#xms.mesher.api-generate_mesh())\n",
    "- [RefinePoint](#RefinePoint)"
   ]
  },
  {
   "cell_type": "markdown",
   "metadata": {},
   "source": [
    "## xmsmesh \"hello world\"\n",
    "This is an introduction to the xmsmesh library. This library generates unstructured triangular or mixed triangle, quad meshes. The meshes are generated from input polygons. The resulting mesh will honor the input polygon boundaries. The density of mesh elements is controlled by the spacing of points along the polygon boundaries.\n",
    "\n",
    "In addition, the density of elements can be controlled by specifying a size function (this is demonstrated in another notebook {see the examples folder}).\n",
    "\n",
    "This example shows how to generate a mesh from a simple, square polygon with coordinates (0,0), (100,100) and a boundary spacing of 10.0."
   ]
  },
  {
   "cell_type": "code",
   "execution_count": 1,
   "metadata": {},
   "outputs": [],
   "source": [
    "import numpy as np\n",
    "import meshing_tools\n",
    "from xms import mesher\n",
    "from xms.grid.ugrid import ugrid_utils"
   ]
  },
  {
   "cell_type": "markdown",
   "metadata": {},
   "source": [
    "## Define the Polygon Points and Display"
   ]
  },
  {
   "cell_type": "code",
   "execution_count": 2,
   "metadata": {},
   "outputs": [],
   "source": [
    "# Define the polygon points\n",
    "polygon_points = np.array([\n",
    "    (0, 10,0),   (0, 20,0),   (0, 30,0),   (0, 40,0),    (0, 50,0),   (0, 60,0),   (0, 70,0),   (0, 80,0),\n",
    "    (0, 90,0),   (0, 100,0),  (10, 100,0), (20, 100,0),  (30, 100,0), (40, 100,0), (50, 100,0), (60, 100,0),\n",
    "    (70, 100,0), (80, 100,0), (90, 100,0), (100, 100,0), (100, 90,0), (100, 80,0), (100, 70,0), (100, 60,0),\n",
    "    (100, 50,0), (100, 40,0), (100, 30,0), (100, 20,0),  (100, 10,0), (100, 0,0),  (90, 0,0),   (80, 0,0),\n",
    "    (70, 0,0),   (60, 0,0),   (50, 0,0),   (40, 0,0),    (30, 0,0),   (20, 0,0),   (10, 0,0),   (0, 0,0)\n",
    "])"
   ]
  },
  {
   "cell_type": "markdown",
   "metadata": {},
   "source": [
    "The code below uses holoviews to create an interactive render of our polygon points. The resulting render is shown in the image that follows."
   ]
  },
  {
   "cell_type": "markdown",
   "metadata": {},
   "source": [
    "```python\n",
    "# Display the Polygon\n",
    "# We are using holoviews instead of geoviews here because we don't need projections for this.\n",
    "%opts Polygons Points [width=500, height=500]\n",
    "polygon = Polygon(polygon_points)\n",
    "polygons = hv.Polygons([polygon,]).redim.range(x=(-15, 115), y=(-15, 115))\n",
    "points = hv.Points(polygon_points).options(color='black', size=6)\n",
    "polygons * points\n",
    "```"
   ]
  },
  {
   "cell_type": "markdown",
   "metadata": {},
   "source": [
    "![Polygon created from above points](images/polygon_points.png)"
   ]
  },
  {
   "cell_type": "markdown",
   "metadata": {},
   "source": [
    "## Create the Mesh Inputs and Generate the Mesh"
   ]
  },
  {
   "cell_type": "code",
   "execution_count": 3,
   "metadata": {},
   "outputs": [
    {
     "name": "stdout",
     "output_type": "stream",
     "text": [
      "Meshing was successful\n"
     ]
    }
   ],
   "source": [
    "# Create Meshing Inputs\n",
    "input_polygon = mesher.meshing.PolyInput(outside_polygon=polygon_points)\n",
    "mesh_io = mesher.meshing.MultiPolyMesherIo(polygons=[input_polygon])\n",
    "\n",
    "# Generate Mesh\n",
    "succeded, errors = mesher.meshing.mesh_utils.generate_mesh(mesh_io=mesh_io)\n",
    "if succeded:\n",
    "    print(\"Meshing was successful\")\n",
    "else:\n",
    "    print(\"Meshing errors found:\")\n",
    "    print(\"\\t{}\".format(errors))\n"
   ]
  },
  {
   "cell_type": "markdown",
   "metadata": {},
   "source": [
    "## Display the Mesh"
   ]
  },
  {
   "cell_type": "markdown",
   "metadata": {},
   "source": [
    "The code below uses holoviews to generate a render of our mesh. The resulting render is shown in the following image."
   ]
  },
  {
   "cell_type": "markdown",
   "metadata": {},
   "source": [
    "```python\n",
    "pts, cells = meshing_tools.xmsmesh_to_dataframe(mesh_io.points, mesh_io.cells)\n",
    "vert_points = hv.Points(pts, vdims=['z'])\n",
    "trimesh = hv.TriMesh((cells, vert_points))\n",
    "polygons * points * trimesh.edgepaths.options(line_width=0.5)\n",
    "```"
   ]
  },
  {
   "cell_type": "markdown",
   "metadata": {},
   "source": [
    "![The mesh that was generated from the above code](images/mesh.png)"
   ]
  },
  {
   "cell_type": "markdown",
   "metadata": {},
   "source": [
    "## Read polygon from shapefile"
   ]
  },
  {
   "cell_type": "code",
   "execution_count": 4,
   "metadata": {},
   "outputs": [
    {
     "name": "stdout",
     "output_type": "stream",
     "text": [
      "Meshing was successful\n"
     ]
    }
   ],
   "source": [
    "from shapely.geometry import shape\n",
    "import fiona\n",
    "shape_file = fiona.open(\"square_holes_polys.shp\")\n",
    "first = next(iter(shape_file))\n",
    "shp_geom = shape(first['geometry'])\n",
    "\n",
    "x, y = shp_geom.exterior.coords.xy\n",
    "coords = np.array(list(zip(x, y)))\n",
    "\n",
    "holes = []\n",
    "for hole in shp_geom.interiors:\n",
    "    xh, yh = hole.coords.xy\n",
    "    hole_coords = np.array(list(zip(xh, yh)))\n",
    "    holes.append(hole_coords)\n",
    "\n",
    "# Create Meshing Inputs\n",
    "input_polygon = mesher.meshing.PolyInput(outside_polygon=coords[:-1], inside_polygons=[x[:-1] for x in holes])\n",
    "mesh_io = mesher.meshing.MultiPolyMesherIo(polygons=[input_polygon])\n",
    "\n",
    "# Generate Mesh\n",
    "succeded, errors = mesher.meshing.mesh_utils.generate_mesh(mesh_io=mesh_io)\n",
    "if succeded:\n",
    "    print(\"Meshing was successful\")\n",
    "else:\n",
    "    print(\"Meshing errors found:\")\n",
    "    print(\"{}\".format(errors))"
   ]
  },
  {
   "cell_type": "markdown",
   "metadata": {},
   "source": [
    "The code below generates a render of our mesh using holowviews. The resulting render is shown in the image below."
   ]
  },
  {
   "cell_type": "markdown",
   "metadata": {},
   "source": [
    "```python\n",
    "polygon_w_hole = Polygon(coords, holes)\n",
    "polygons_holes = hv.Polygons([polygon_w_hole,]).redim.range(x=(-15, 115), y=(-15, 115))\n",
    "\n",
    "pts, cells = meshing_tools.xmsmesh_to_dataframe(mesh_io.points, mesh_io.cells)\n",
    "vert_points = hv.Points(pts, vdims=['z'])\n",
    "trimesh = hv.TriMesh((cells, vert_points))\n",
    "polygons_holes * trimesh.edgepaths.options(line_width=0.5)\n",
    "```"
   ]
  },
  {
   "cell_type": "markdown",
   "metadata": {},
   "source": [
    "![The mesh that was generated from the above code](images/mesh_2.png)"
   ]
  },
  {
   "cell_type": "markdown",
   "metadata": {},
   "source": [
    "## xms.mesher.api generate_mesh()"
   ]
  },
  {
   "cell_type": "markdown",
   "metadata": {},
   "source": [
    "xmsmesher provides a function called `generate_mesh()` that allows you to generate a mesh with a single function call. It takes two arguments which are shown below:\n",
    "\n",
    "- `polygon_inputs` (list of PolyInput): The polygon inputs for meshing.\n",
    "- `refine_points` (list of RefinePoint): A list of RefinePoint's used in meshing. (Optional)\n",
    "\n",
    "`refine_points` is optional, and we will go over `RefinePoint` later. `generate_mesh()` returns the mesh as an xmsgrid `UGrid` object. An example on how to use `generate_mesh()` is given below."
   ]
  },
  {
   "cell_type": "code",
   "execution_count": 5,
   "metadata": {
    "tags": []
   },
   "outputs": [
    {
     "data": {
      "text/plain": [
       "<UGrid - Number of Locations: 116, Number of Cells: 140, Extents: ((0.0, 0.0, 0.0), (100.0, 100.0, 0.0)), Modified: True>"
      ]
     },
     "execution_count": 5,
     "metadata": {},
     "output_type": "execute_result"
    }
   ],
   "source": [
    "# Import needed for generate_mesh()\n",
    "from xms.mesher.api.mesh import generate_mesh\n",
    "from xms.grid.ugrid import ugrid_utils\n",
    "\n",
    "# Generate mesh from data created earlier in the notebook\n",
    "uGrid = generate_mesh(polygon_inputs=[input_polygon])\n",
    "\n",
    "# Write the UGrid out to a file\n",
    "ugrid_utils.write_ugrid_to_ascii_file(uGrid, 'output/mesh_api.xmugrid')\n",
    "\n",
    "uGrid"
   ]
  },
  {
   "cell_type": "markdown",
   "metadata": {},
   "source": [
    "The image below is a screenshot of our UGrid when imported into GMS."
   ]
  },
  {
   "cell_type": "markdown",
   "metadata": {},
   "source": [
    "![](images/mesh_api.png)"
   ]
  },
  {
   "cell_type": "markdown",
   "metadata": {},
   "source": [
    "## RefinePoint"
   ]
  },
  {
   "cell_type": "markdown",
   "metadata": {},
   "source": [
    "xmsmesher provides the `RefinePoint` class to allow you to create refine points for your mesh. A refine point is a feature point that is created inside the boundary of a polygon and assigned a size value. When the finite element mesh is created, a corner node will be created at the location of the refine point and all element edges that touch the node will be the exact length specified by the refine point size value. The `RefinePoint` constructor takes the following three arguments:\n",
    "\n",
    "- `point` (Tuple): The location of the refine point. An (x,y,z) tuple. \n",
    "- `size` (Real): The element edge length in the vicinity of the refine point.\n",
    "- `create_mesh_point` (Bool): Whether or not to create a corner node at the location of this refine point. (Optional, defaults to `True`)\n",
    "\n",
    "We can use `RefinePoint` when generating a mesh with `MultiPolyMesherIo` as shown below:"
   ]
  },
  {
   "cell_type": "code",
   "execution_count": 6,
   "metadata": {
    "tags": []
   },
   "outputs": [
    {
     "name": "stdout",
     "output_type": "stream",
     "text": [
      "Meshing was successful\n"
     ]
    }
   ],
   "source": [
    "# Import needed so we can write our mesh out to a file as a UGrid\n",
    "from xms import grid\n",
    "\n",
    "# Create Meshing Inputs\n",
    "input_polygon = mesher.meshing.PolyInput(outside_polygon=polygon_points)\n",
    "refine_point = mesher.meshing.RefinePoint(point=(13.0, 50.0, 0.0), size=0.5, create_mesh_point=True)\n",
    "mesh_io = mesher.meshing.MultiPolyMesherIo(polygons=[input_polygon], refine_points=[refine_point])\n",
    "\n",
    "# Generate Mesh\n",
    "succeded, errors = mesher.meshing.mesh_utils.generate_mesh(mesh_io=mesh_io)\n",
    "if succeded:\n",
    "    print(\"Meshing was successful\")\n",
    "    grid = grid.ugrid.UGrid(points=mesh_io.points, cellstream=mesh_io.cells)\n",
    "    ugrid_utils.write_ugrid_to_ascii_file(grid, \"output/ugrid_1.xmugrid\")\n",
    "else:\n",
    "    print(\"Meshing errors found:\")\n",
    "    print(\"\\t{}\".format(errors))"
   ]
  },
  {
   "cell_type": "markdown",
   "metadata": {},
   "source": [
    "Our generated mesh with our refine point is shown below."
   ]
  },
  {
   "cell_type": "markdown",
   "metadata": {},
   "source": [
    "![Our mesh with a refine point](images/mesh_refine_1.png)"
   ]
  },
  {
   "cell_type": "markdown",
   "metadata": {},
   "source": [
    "We can also use `RefinePoint` with the xms.mesher.api `generate_mesh()` function as shown below."
   ]
  },
  {
   "cell_type": "code",
   "execution_count": 7,
   "metadata": {
    "tags": []
   },
   "outputs": [],
   "source": [
    "# Create Meshing Inputs\n",
    "input_polygon = mesher.meshing.PolyInput(outside_polygon=polygon_points)\n",
    "refine_point = mesher.meshing.RefinePoint(point=(50.0, 50.0, 0.0), size=0.5, create_mesh_point=True)\n",
    "\n",
    "# Generate the mesh\n",
    "ugrid = generate_mesh(polygon_inputs=[input_polygon], refine_points=[refine_point])\n",
    "\n",
    "# Write the mesh out to a file\n",
    "ugrid_utils.write_ugrid_to_ascii_file(ugrid, \"output/ugrid_2.xmugrid\")"
   ]
  },
  {
   "cell_type": "markdown",
   "metadata": {},
   "source": [
    "![](images/mesh_refine_2.png)"
   ]
  },
  {
   "cell_type": "code",
   "execution_count": null,
   "metadata": {},
   "outputs": [],
   "source": []
  }
 ],
 "metadata": {
  "kernelspec": {
   "display_name": "Python 3 (ipykernel)",
   "language": "python",
   "name": "python3"
  },
  "language_info": {
   "codemirror_mode": {
    "name": "ipython",
    "version": 3
   },
   "file_extension": ".py",
   "mimetype": "text/x-python",
   "name": "python",
   "nbconvert_exporter": "python",
   "pygments_lexer": "ipython3",
   "version": "3.10.2"
  }
 },
 "nbformat": 4,
 "nbformat_minor": 4
}
