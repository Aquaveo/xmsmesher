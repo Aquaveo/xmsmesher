{
 "cells": [
  {
   "cell_type": "markdown",
   "metadata": {},
   "source": [
    "## Table of Contents"
   ]
  },
  {
   "cell_type": "markdown",
   "metadata": {},
   "source": [
    "- [Scalar Paving](#Scalar-Paving)\n",
    "- [Some Helper Functions](#Some-Helper-Functions)\n",
    "- [Define the Polygon Points and Display](#define_the_polygon_points_and_display)\n",
    "- [Setup Linear Interpolation Object for Size Function](#Setup-Linear-Interpolation-Object-for-Size-Function)\n",
    "- [Create the Mesh Inputs and Generate the Mesh](#create_the_mesh_inputs_and_generate_the_mesh)\n",
    "- [Display the Mesh](#display_the_mesh_1)\n",
    "- [Setup IDW Interpolation Object for Size Function and Generate Mesh](#Setup-IDW-Interpolation-Object-for-Size-Function-and-Generate-Mesh)\n",
    "- [Display the Mesh](#display_the_mesh_2)"
   ]
  },
  {
   "cell_type": "markdown",
   "metadata": {},
   "source": [
    "## Scalar Paving\n",
    "\n",
    "This example illustrates how to influence the size of elements in the generated 2d mesh by specifying a size function. This process is referred to as scalar paving. The size function is specified using the InterpLinear or InterpIdw classes. The InterpLinear class performs spatial interpolation from points and triangles. This example uses a simple polygon with a set of 5 points and 4 triangles to define a linear size function."
   ]
  },
  {
   "cell_type": "code",
   "execution_count": 1,
   "metadata": {},
   "outputs": [],
   "source": [
    "import numpy as np\n",
    "import pandas as pd\n",
    "import meshing_tools\n",
    "from xms import mesher\n",
    "from xms import interp"
   ]
  },
  {
   "cell_type": "markdown",
   "metadata": {},
   "source": [
    "## Some Helper Functions"
   ]
  },
  {
   "cell_type": "code",
   "execution_count": 2,
   "metadata": {},
   "outputs": [],
   "source": [
    "def pts_to_dataframe(pts):\n",
    "    np_pts = np.array(pts)\n",
    "    return pd.DataFrame(np_pts, columns=['x', 'y', 'z'])\n",
    "\n",
    "def tri_list_to_dataframe(tris):\n",
    "    np_tris = np.array(tris)\n",
    "    return pd.DataFrame([(np_tris[x], np_tris[x+1], np_tris[x+2]) for x in range(0, len(tris), 3)], columns=['v0', 'v1', 'v2'])"
   ]
  },
  {
   "cell_type": "markdown",
   "metadata": {},
   "source": [
    "<a id=\"define_the_polygon_points_and_display\"></a>"
   ]
  },
  {
   "cell_type": "markdown",
   "metadata": {},
   "source": [
    "## Define the Polygon Points and Display"
   ]
  },
  {
   "cell_type": "code",
   "execution_count": 3,
   "metadata": {},
   "outputs": [],
   "source": [
    "polygon_points = np.array([\n",
    "    (0, 10,0),   (0, 20,0),   (0, 30,0),   (0, 40,0),    (0, 50,0),   (0, 60,0),   (0, 70,0),   (0, 80,0),\n",
    "    (0, 90,0),   (0, 100,0),  (10, 100,0), (20, 100,0),  (30, 100,0), (40, 100,0), (50, 100,0), (60, 100,0),\n",
    "    (70, 100,0), (80, 100,0), (90, 100,0), (100, 100,0), (100, 90,0), (100, 80,0), (100, 70,0), (100, 60,0),\n",
    "    (100, 50,0), (100, 40,0), (100, 30,0), (100, 20,0),  (100, 10,0), (100, 0,0),  (90, 0,0),   (80, 0,0),\n",
    "    (70, 0,0),   (60, 0,0),   (50, 0,0),   (40, 0,0),    (30, 0,0),   (20, 0,0),   (10, 0,0),   (0, 0,0)\n",
    "])"
   ]
  },
  {
   "cell_type": "markdown",
   "metadata": {},
   "source": [
    "The code below uses holoviews to create an interactive render of our polygon points. The resulting render is shown in the image that follows."
   ]
  },
  {
   "cell_type": "markdown",
   "metadata": {},
   "source": [
    "```python\n",
    "# Display the Polygon\n",
    "# We are using holoviews instead of geoviews here because we don't need projections for this.\n",
    "%opts Polygons Points [width=500, height=500]\n",
    "polygon = Polygon(polygon_points)\n",
    "polygons = hv.Polygons([polygon,]).redim.range(x=(-15, 115), y=(-15, 115))\n",
    "points = hv.Points(polygon_points).options(color='black', size=6)\n",
    "polygons * points\n",
    "```"
   ]
  },
  {
   "cell_type": "markdown",
   "metadata": {},
   "source": [
    "![The polygon that was generated with the code above](images/polygon_1.png)"
   ]
  },
  {
   "cell_type": "markdown",
   "metadata": {},
   "source": [
    "## Setup Linear Interpolation Object for Size Function\n",
    "Create linear interpolator for the size function."
   ]
  },
  {
   "cell_type": "code",
   "execution_count": 4,
   "metadata": {},
   "outputs": [],
   "source": [
    "df_pts = pts_to_dataframe(((-10, -10, 10), (-10, 110, 10), (110, 110, 10), (110, -10, 10), (60, 70, 1)))\n",
    "df_tris = tri_list_to_dataframe((0, 4, 1, 1, 4, 2, 2, 4, 3, 3, 4, 0))"
   ]
  },
  {
   "cell_type": "markdown",
   "metadata": {},
   "source": [
    "The code below renders our trimesh with our polygon using holoviews. The resulting render is shown in the following image."
   ]
  },
  {
   "cell_type": "markdown",
   "metadata": {},
   "source": [
    "```python\n",
    "vert_points = hv.Points(df_pts)\n",
    "trimesh = hv.TriMesh((df_tris, vert_points))\n",
    "polygons * points * trimesh\n",
    "```"
   ]
  },
  {
   "cell_type": "markdown",
   "metadata": {},
   "source": [
    "![Trimesh](images/linear_interpolation_object.png)"
   ]
  },
  {
   "cell_type": "code",
   "execution_count": 5,
   "metadata": {},
   "outputs": [],
   "source": [
    "linear = interp.interpolate.InterpLinear(points=df_pts.values)"
   ]
  },
  {
   "cell_type": "markdown",
   "metadata": {},
   "source": [
    "<a id=\"create_the_mesh_inputs_and_generate_the_mesh\"></a>"
   ]
  },
  {
   "cell_type": "markdown",
   "metadata": {},
   "source": [
    "## Create the Mesh Inputs and Generate the Mesh"
   ]
  },
  {
   "cell_type": "code",
   "execution_count": 6,
   "metadata": {},
   "outputs": [
    {
     "name": "stdout",
     "output_type": "stream",
     "text": [
      "Meshing was successful\n"
     ]
    }
   ],
   "source": [
    "input_polygon = mesher.meshing.PolyInput(outside_polygon=polygon_points, size_function=linear)\n",
    "mesh_io = mesher.meshing.MultiPolyMesherIo(polygons=[input_polygon])\n",
    "\n",
    "# Generate Mesh\n",
    "succeded, errors = mesher.meshing.mesh_utils.generate_mesh(mesh_io=mesh_io)\n",
    "if succeded:\n",
    "    print(\"Meshing was successful\")\n",
    "else:\n",
    "    print(\"Meshing errors found:\")\n",
    "    print(\"\\t{}\".format(errors))"
   ]
  },
  {
   "cell_type": "markdown",
   "metadata": {},
   "source": [
    "<a id=\"display_the_mesh_1\"></a>"
   ]
  },
  {
   "cell_type": "markdown",
   "metadata": {},
   "source": [
    "## Display the Mesh"
   ]
  },
  {
   "cell_type": "markdown",
   "metadata": {},
   "source": [
    "The code below uses holoviews to generate an interactive plot of our mesh. This plot is pictured in the image below."
   ]
  },
  {
   "cell_type": "markdown",
   "metadata": {},
   "source": [
    "```python\n",
    "pts, cells = meshing_tools.xmsmesh_to_dataframe(mesh_io.points, mesh_io.cells)\n",
    "vert_points = hv.Points(pts, vdims=['z'])\n",
    "trimesh = hv.TriMesh((cells, vert_points))\n",
    "polygons * points * trimesh.edgepaths.options(line_width=0.5)\n",
    "```"
   ]
  },
  {
   "cell_type": "markdown",
   "metadata": {},
   "source": [
    "![Mesh generated using linear interpolation for size function](images/mesh_linear.png)"
   ]
  },
  {
   "cell_type": "markdown",
   "metadata": {},
   "source": [
    "## Setup IDW Interpolation Object for Size Function and Generate Mesh\n",
    "Create idw interpolator for the size function."
   ]
  },
  {
   "cell_type": "code",
   "execution_count": 7,
   "metadata": {},
   "outputs": [
    {
     "name": "stdout",
     "output_type": "stream",
     "text": [
      "Meshing was successful\n"
     ]
    }
   ],
   "source": [
    "# use idw as the size function\n",
    "idw = interp.interpolate.InterpIdw(points=df_pts.values)\n",
    "#mesh_io.poly_inputs[0].size_function = idw\n",
    "input_polygon = mesher.meshing.PolyInput(outside_polygon=polygon_points, size_function=idw)\n",
    "mesh_io = mesher.meshing.MultiPolyMesherIo(polygons=[input_polygon])\n",
    "# Generate Mesh\n",
    "succeded, errors = mesher.meshing.mesh_utils.generate_mesh(mesh_io=mesh_io)\n",
    "if succeded:\n",
    "    print(\"Meshing was successful\")\n",
    "else:\n",
    "    print(\"Meshing errors found:\")\n",
    "    print(\"\\t{}\".format(errors))"
   ]
  },
  {
   "cell_type": "markdown",
   "metadata": {},
   "source": [
    "<a id=\"display_the_mesh_2\"></a>"
   ]
  },
  {
   "cell_type": "markdown",
   "metadata": {},
   "source": [
    "## Display the Mesh"
   ]
  },
  {
   "cell_type": "markdown",
   "metadata": {},
   "source": [
    "The code below uses holoviews to generate a render of the resulting mesh. This render is shown in the image below."
   ]
  },
  {
   "cell_type": "markdown",
   "metadata": {},
   "source": [
    "```python\n",
    "pts, cells = meshing_tools.xmsmesh_to_dataframe(mesh_io.points, mesh_io.cells)\n",
    "vert_points = hv.Points(pts, vdims=['z'])\n",
    "trimesh = hv.TriMesh((cells, vert_points))\n",
    "polygons * points * trimesh.edgepaths.options(line_width=0.5)\n",
    "```"
   ]
  },
  {
   "cell_type": "markdown",
   "metadata": {},
   "source": [
    "![Mesh generated using inverse distance weighting interpolation for the size function](images/mesh_idw.png)"
   ]
  },
  {
   "cell_type": "code",
   "execution_count": null,
   "metadata": {},
   "outputs": [],
   "source": []
  }
 ],
 "metadata": {
  "kernelspec": {
   "display_name": "Python 3 (ipykernel)",
   "language": "python",
   "name": "python3"
  },
  "language_info": {
   "codemirror_mode": {
    "name": "ipython",
    "version": 3
   },
   "file_extension": ".py",
   "mimetype": "text/x-python",
   "name": "python",
   "nbconvert_exporter": "python",
   "pygments_lexer": "ipython3",
   "version": "3.10.2"
  }
 },
 "nbformat": 4,
 "nbformat_minor": 4
}
